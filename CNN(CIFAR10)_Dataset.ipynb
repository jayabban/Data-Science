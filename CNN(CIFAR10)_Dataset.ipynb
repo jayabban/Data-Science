{
  "nbformat": 4,
  "nbformat_minor": 0,
  "metadata": {
    "colab": {
      "provenance": [],
      "mount_file_id": "1z9W4nM9K6lb1EdY2CGfdPScvcc4sQpXt",
      "authorship_tag": "ABX9TyN5qlULlErYGLhrR2PjaUPp",
      "include_colab_link": true
    },
    "kernelspec": {
      "name": "python3",
      "display_name": "Python 3"
    },
    "language_info": {
      "name": "python"
    }
  },
  "cells": [
    {
      "cell_type": "markdown",
      "metadata": {
        "id": "view-in-github",
        "colab_type": "text"
      },
      "source": [
        "<a href=\"https://colab.research.google.com/github/jayabban/Data-Science/blob/main/CNN(CIFAR10)_Dataset.ipynb\" target=\"_parent\"><img src=\"https://colab.research.google.com/assets/colab-badge.svg\" alt=\"Open In Colab\"/></a>"
      ]
    },
    {
      "cell_type": "code",
      "execution_count": 1,
      "metadata": {
        "id": "GlJBWI3ODw4O"
      },
      "outputs": [],
      "source": [
        "import tensorflow as tf\n",
        "from tensorflow.keras import datasets, layers, models\n",
        "import matplotlib.pyplot as plt\n",
        "import numpy as np"
      ]
    },
    {
      "cell_type": "markdown",
      "source": [
        "# **Importing Dataset**"
      ],
      "metadata": {
        "id": "qbqdGl-REgiV"
      }
    },
    {
      "cell_type": "markdown",
      "source": [
        "Trainning samples are (50000) (32 x 32px) and rgb(3)"
      ],
      "metadata": {
        "id": "FtWmB358EtDd"
      }
    },
    {
      "cell_type": "code",
      "source": [
        "(X_train, y_train), (X_test,y_test) = datasets.cifar10.load_data()\n",
        "X_train.shape"
      ],
      "metadata": {
        "colab": {
          "base_uri": "https://localhost:8080/"
        },
        "id": "q1LEjtApEJFo",
        "outputId": "b616e67b-3151-4ab7-be3c-234e2660cdfc"
      },
      "execution_count": 2,
      "outputs": [
        {
          "output_type": "stream",
          "name": "stdout",
          "text": [
            "Downloading data from https://www.cs.toronto.edu/~kriz/cifar-10-python.tar.gz\n",
            "170498071/170498071 [==============================] - 2s 0us/step\n"
          ]
        },
        {
          "output_type": "execute_result",
          "data": {
            "text/plain": [
              "(50000, 32, 32, 3)"
            ]
          },
          "metadata": {},
          "execution_count": 2
        }
      ]
    },
    {
      "cell_type": "code",
      "source": [
        "X_test.shape"
      ],
      "metadata": {
        "colab": {
          "base_uri": "https://localhost:8080/"
        },
        "id": "hAfNKk8TEczF",
        "outputId": "cf8da2b2-8daa-4f7f-eee9-6088dda444ba"
      },
      "execution_count": 3,
      "outputs": [
        {
          "output_type": "execute_result",
          "data": {
            "text/plain": [
              "(10000, 32, 32, 3)"
            ]
          },
          "metadata": {},
          "execution_count": 3
        }
      ]
    },
    {
      "cell_type": "markdown",
      "source": [
        "One Dimensional Array"
      ],
      "metadata": {
        "id": "abZq2IR4GlT1"
      }
    },
    {
      "cell_type": "code",
      "source": [
        "y_train[:5]"
      ],
      "metadata": {
        "colab": {
          "base_uri": "https://localhost:8080/"
        },
        "id": "I8TW7W4XGKDU",
        "outputId": "872cd84b-d54d-4d90-d5ee-dc8c65e0670e"
      },
      "execution_count": 4,
      "outputs": [
        {
          "output_type": "execute_result",
          "data": {
            "text/plain": [
              "array([[6],\n",
              "       [9],\n",
              "       [9],\n",
              "       [4],\n",
              "       [1]], dtype=uint8)"
            ]
          },
          "metadata": {},
          "execution_count": 4
        }
      ]
    },
    {
      "cell_type": "markdown",
      "source": [
        "Reshaped to two dimensional array"
      ],
      "metadata": {
        "id": "wkbYL9oIGrxF"
      }
    },
    {
      "cell_type": "code",
      "source": [
        "y_train = y_train.reshape(-1,)\n",
        "y_train[:5]"
      ],
      "metadata": {
        "colab": {
          "base_uri": "https://localhost:8080/"
        },
        "id": "RtOCMMDWGXFd",
        "outputId": "b0891f68-9118-4ea3-c373-8f8430a704d8"
      },
      "execution_count": 5,
      "outputs": [
        {
          "output_type": "execute_result",
          "data": {
            "text/plain": [
              "array([6, 9, 9, 4, 1], dtype=uint8)"
            ]
          },
          "metadata": {},
          "execution_count": 5
        }
      ]
    },
    {
      "cell_type": "code",
      "source": [
        "classes = [\"airplane\",\"automobile\",\"bird\",\"cat\",\"deer\",\"dog\",\"frog\",\"horse\",\"ship\",\"truck\"]"
      ],
      "metadata": {
        "id": "gcixxmO6GB0l"
      },
      "execution_count": 6,
      "outputs": []
    },
    {
      "cell_type": "code",
      "source": [
        "classes[9]"
      ],
      "metadata": {
        "colab": {
          "base_uri": "https://localhost:8080/",
          "height": 36
        },
        "id": "b6t0v_p6G0cy",
        "outputId": "356afa2f-988a-49b0-8177-55a8139869da"
      },
      "execution_count": 7,
      "outputs": [
        {
          "output_type": "execute_result",
          "data": {
            "text/plain": [
              "'truck'"
            ],
            "application/vnd.google.colaboratory.intrinsic+json": {
              "type": "string"
            }
          },
          "metadata": {},
          "execution_count": 7
        }
      ]
    },
    {
      "cell_type": "code",
      "source": [
        "def plot_sample(X, y, index):\n",
        "  plt.figure(figsize=(15,2))\n",
        "  plt.imshow(X[index])\n",
        "  plt.xlabel(classes[y[index]])"
      ],
      "metadata": {
        "id": "Q7BLjYp6E8se"
      },
      "execution_count": 8,
      "outputs": []
    },
    {
      "cell_type": "code",
      "source": [
        "plot_sample(X_train, y_train, 2)"
      ],
      "metadata": {
        "colab": {
          "base_uri": "https://localhost:8080/",
          "height": 237
        },
        "id": "E4xvE0hUFLec",
        "outputId": "0bb3d493-a412-4074-fb2e-e264735ac80c"
      },
      "execution_count": 9,
      "outputs": [
        {
          "output_type": "display_data",
          "data": {
            "text/plain": [
              "<Figure size 1500x200 with 1 Axes>"
            ],
            "image/png": "[encoded data removed]"
          },
          "metadata": {}
        }
      ]
    },
    {
      "cell_type": "markdown",
      "source": [
        "# **Normalising our Dataset **\n"
      ],
      "metadata": {
        "id": "-ndXjEa8HOBj"
      }
    },
    {
      "cell_type": "code",
      "source": [
        "X_train = X_train/255\n",
        "X_test = X_test/255"
      ],
      "metadata": {
        "id": "cQhnhk4wHDZN"
      },
      "execution_count": 10,
      "outputs": []
    },
    {
      "cell_type": "markdown",
      "source": [
        "Using artificial Neural Network"
      ],
      "metadata": {
        "id": "wwbK9UM5IHkF"
      }
    },
    {
      "cell_type": "code",
      "source": [
        "from tensorflow import keras\n",
        "ann = keras.models.Sequential()\n"
      ],
      "metadata": {
        "id": "RZWa623pHYm9"
      },
      "execution_count": 11,
      "outputs": []
    },
    {
      "cell_type": "code",
      "source": [
        "ann.add(tf.keras.layers.Flatten(input_shape=(32,32,3)))\n",
        "ann.add(tf.keras.layers.Dense(3000, activation='relu'))\n",
        "ann.add(tf.keras.layers.Dense(1000, activation='relu'))\n",
        "ann.add(tf.keras.layers.Dense(10, activation='sigmoid'))"
      ],
      "metadata": {
        "id": "I-VjJv6aIRmF"
      },
      "execution_count": 12,
      "outputs": []
    },
    {
      "cell_type": "code",
      "source": [
        "ann.compile(optimizer ='SGD', loss='sparse_categorical_crossentropy', metrics=['accuracy'])"
      ],
      "metadata": {
        "id": "kxsoV83nJM5e"
      },
      "execution_count": 13,
      "outputs": []
    },
    {
      "cell_type": "code",
      "source": [
        "ann.fit(X_train, y_train, epochs=5)"
      ],
      "metadata": {
        "colab": {
          "base_uri": "https://localhost:8080/"
        },
        "id": "qmvxKqFcJdjo",
        "outputId": "ec6aebf1-689c-4949-df08-42e7534ca267"
      },
      "execution_count": 14,
      "outputs": [
        {
          "output_type": "stream",
          "name": "stdout",
          "text": [
            "Epoch 1/5\n",
            "1563/1563 [==============================] - 180s 113ms/step - loss: 1.8091 - accuracy: 0.3536\n",
            "Epoch 2/5\n",
            "1563/1563 [==============================] - 171s 110ms/step - loss: 1.6226 - accuracy: 0.4271\n",
            "Epoch 3/5\n",
            "1563/1563 [==============================] - 182s 116ms/step - loss: 1.5415 - accuracy: 0.4566\n",
            "Epoch 4/5\n",
            "1563/1563 [==============================] - 167s 107ms/step - loss: 1.4827 - accuracy: 0.4771\n",
            "Epoch 5/5\n",
            "1563/1563 [==============================] - 164s 105ms/step - loss: 1.4302 - accuracy: 0.4961\n"
          ]
        },
        {
          "output_type": "execute_result",
          "data": {
            "text/plain": [
              "<keras.src.callbacks.History at 0x7ed4ddf2cb50>"
            ]
          },
          "metadata": {},
          "execution_count": 14
        }
      ]
    },
    {
      "cell_type": "code",
      "source": [
        "ann.evaluate(X_test, y_test)"
      ],
      "metadata": {
        "colab": {
          "base_uri": "https://localhost:8080/"
        },
        "id": "iWB-MQ5PJq25",
        "outputId": "f224764e-5f73-4d04-9f3d-e8a4149c50e6"
      },
      "execution_count": 15,
      "outputs": [
        {
          "output_type": "stream",
          "name": "stdout",
          "text": [
            "313/313 [==============================] - 12s 36ms/step - loss: 1.4538 - accuracy: 0.4902\n"
          ]
        },
        {
          "output_type": "execute_result",
          "data": {
            "text/plain": [
              "[1.4538160562515259, 0.490200012922287]"
            ]
          },
          "metadata": {},
          "execution_count": 15
        }
      ]
    },
    {
      "cell_type": "code",
      "source": [
        "from sklearn.metrics import confusion_matrix, classification_report\n",
        "import numpy as np\n",
        "y_pred = ann.predict(X_test)\n",
        "y_pred_classes =[np.argmax(element) for element in y_pred]\n",
        "\n",
        "print(\"classification Report: \\n\", classification_report(y_test,y_pred_classes))"
      ],
      "metadata": {
        "colab": {
          "base_uri": "https://localhost:8080/"
        },
        "id": "r0OfrMcxNA2i",
        "outputId": "d8a6d324-c33f-455a-b88b-ffe852aef59c"
      },
      "execution_count": 16,
      "outputs": [
        {
          "output_type": "stream",
          "name": "stdout",
          "text": [
            "313/313 [==============================] - 11s 36ms/step\n",
            "classification Report: \n",
            "               precision    recall  f1-score   support\n",
            "\n",
            "           0       0.67      0.43      0.52      1000\n",
            "           1       0.55      0.72      0.62      1000\n",
            "           2       0.35      0.44      0.39      1000\n",
            "           3       0.32      0.47      0.38      1000\n",
            "           4       0.41      0.44      0.42      1000\n",
            "           5       0.40      0.35      0.37      1000\n",
            "           6       0.56      0.48      0.52      1000\n",
            "           7       0.62      0.47      0.54      1000\n",
            "           8       0.64      0.61      0.63      1000\n",
            "           9       0.61      0.49      0.54      1000\n",
            "\n",
            "    accuracy                           0.49     10000\n",
            "   macro avg       0.51      0.49      0.49     10000\n",
            "weighted avg       0.51      0.49      0.49     10000\n",
            "\n"
          ]
        }
      ]
    },
    {
      "cell_type": "markdown",
      "source": [
        "# **Improving Performance with CNN**"
      ],
      "metadata": {
        "id": "teYS6yo8OVXO"
      }
    },
    {
      "cell_type": "code",
      "source": [
        "from tensorflow import keras\n",
        "cnn = keras.models.Sequential()"
      ],
      "metadata": {
        "id": "csxICvNyOlvm"
      },
      "execution_count": 17,
      "outputs": []
    },
    {
      "cell_type": "markdown",
      "source": [
        "# **Convolution**"
      ],
      "metadata": {
        "id": "W9j623lBTQcf"
      }
    },
    {
      "cell_type": "code",
      "source": [
        "cnn.add(tf.keras.layers.Conv2D(filters=32, kernel_size=(3,3), activation='relu', input_shape=(32,32,3)))"
      ],
      "metadata": {
        "id": "rmWZdIiQTXvY"
      },
      "execution_count": 18,
      "outputs": []
    },
    {
      "cell_type": "markdown",
      "source": [
        "# **Pooling**"
      ],
      "metadata": {
        "id": "DBdH4__wTbpB"
      }
    },
    {
      "cell_type": "code",
      "source": [
        "cnn.add(tf.keras.layers.MaxPool2D((2,2)))"
      ],
      "metadata": {
        "id": "7vscssinTf-Z"
      },
      "execution_count": 19,
      "outputs": []
    },
    {
      "cell_type": "markdown",
      "source": [
        "# **Addind a second convolutional layer**"
      ],
      "metadata": {
        "id": "-xznlWJwTnZn"
      }
    },
    {
      "cell_type": "code",
      "source": [
        "cnn.add(tf.keras.layers.Conv2D(filters=64, kernel_size=(3,3),activation='relu'))\n",
        "cnn.add(tf.keras.layers.MaxPool2D((2,2)))\n"
      ],
      "metadata": {
        "id": "AuAa8wQBT1fn"
      },
      "execution_count": 20,
      "outputs": []
    },
    {
      "cell_type": "markdown",
      "source": [
        "# **Flattening**"
      ],
      "metadata": {
        "id": "jr9s1djzUCY_"
      }
    },
    {
      "cell_type": "code",
      "source": [
        "cnn.add(tf.keras.layers.Flatten())"
      ],
      "metadata": {
        "id": "NxzNJQmEUJyn"
      },
      "execution_count": 21,
      "outputs": []
    },
    {
      "cell_type": "markdown",
      "source": [
        "# **Full Connection**"
      ],
      "metadata": {
        "id": "IdhfDiTQUSQK"
      }
    },
    {
      "cell_type": "code",
      "source": [
        "cnn.add(tf.keras.layers.Dense(units=64, activation='relu'))"
      ],
      "metadata": {
        "id": "hwOQRUtlRa-m"
      },
      "execution_count": 22,
      "outputs": []
    },
    {
      "cell_type": "markdown",
      "source": [
        "# **Output Layer**"
      ],
      "metadata": {
        "id": "am9u4lsxUukH"
      }
    },
    {
      "cell_type": "code",
      "source": [
        "cnn.add(tf.keras.layers.Dense(units=10, activation='softmax'))"
      ],
      "metadata": {
        "id": "fJQzm_luUzSv"
      },
      "execution_count": 23,
      "outputs": []
    },
    {
      "cell_type": "markdown",
      "source": [
        "# **Trainning the CNN**"
      ],
      "metadata": {
        "id": "IM_8v8miVCuA"
      }
    },
    {
      "cell_type": "markdown",
      "source": [
        "### Compiling"
      ],
      "metadata": {
        "id": "N5-7GGlZVHWf"
      }
    },
    {
      "cell_type": "code",
      "source": [
        "cnn.compile(optimizer ='adam', loss='sparse_categorical_crossentropy', metrics=['accuracy'])"
      ],
      "metadata": {
        "id": "zgbjIv9pVGsH"
      },
      "execution_count": 24,
      "outputs": []
    },
    {
      "cell_type": "markdown",
      "source": [
        "### Trainning the CNN on the trainning set and evaluating it on the test set"
      ],
      "metadata": {
        "id": "1MMBrRKIVaff"
      }
    },
    {
      "cell_type": "code",
      "source": [
        "cnn.fit(X_train, y_train, epochs=10)"
      ],
      "metadata": {
        "colab": {
          "base_uri": "https://localhost:8080/"
        },
        "id": "abQmNaynVuM3",
        "outputId": "6816b15c-7a17-48c7-d3a5-2fc1baf78123"
      },
      "execution_count": 25,
      "outputs": [
        {
          "output_type": "stream",
          "name": "stdout",
          "text": [
            "Epoch 1/10\n",
            "1563/1563 [==============================] - 76s 48ms/step - loss: 1.4569 - accuracy: 0.4761\n",
            "Epoch 2/10\n",
            "1563/1563 [==============================] - 78s 50ms/step - loss: 1.1031 - accuracy: 0.6176\n",
            "Epoch 3/10\n",
            "1563/1563 [==============================] - 73s 47ms/step - loss: 0.9683 - accuracy: 0.6633\n",
            "Epoch 4/10\n",
            "1563/1563 [==============================] - 73s 47ms/step - loss: 0.8873 - accuracy: 0.6928\n",
            "Epoch 5/10\n",
            "1563/1563 [==============================] - 73s 47ms/step - loss: 0.8158 - accuracy: 0.7173\n",
            "Epoch 6/10\n",
            "1563/1563 [==============================] - 74s 47ms/step - loss: 0.7663 - accuracy: 0.7361\n",
            "Epoch 7/10\n",
            "1563/1563 [==============================] - 74s 47ms/step - loss: 0.7153 - accuracy: 0.7517\n",
            "Epoch 8/10\n",
            "1563/1563 [==============================] - 75s 48ms/step - loss: 0.6744 - accuracy: 0.7656\n",
            "Epoch 9/10\n",
            "1563/1563 [==============================] - 73s 47ms/step - loss: 0.6317 - accuracy: 0.7804\n",
            "Epoch 10/10\n",
            "1563/1563 [==============================] - 77s 49ms/step - loss: 0.5948 - accuracy: 0.7932\n"
          ]
        },
        {
          "output_type": "execute_result",
          "data": {
            "text/plain": [
              "<keras.src.callbacks.History at 0x7ed4d917c640>"
            ]
          },
          "metadata": {},
          "execution_count": 25
        }
      ]
    },
    {
      "cell_type": "code",
      "source": [
        "cnn.evaluate(X_test, y_test)"
      ],
      "metadata": {
        "colab": {
          "base_uri": "https://localhost:8080/"
        },
        "id": "QGQjKh5jXR9m",
        "outputId": "40bb73c2-1fcf-4812-db48-295a637760a8"
      },
      "execution_count": 26,
      "outputs": [
        {
          "output_type": "stream",
          "name": "stdout",
          "text": [
            "313/313 [==============================] - 5s 16ms/step - loss: 0.8724 - accuracy: 0.7124\n"
          ]
        },
        {
          "output_type": "execute_result",
          "data": {
            "text/plain": [
              "[0.8724304437637329, 0.7124000191688538]"
            ]
          },
          "metadata": {},
          "execution_count": 26
        }
      ]
    },
    {
      "cell_type": "markdown",
      "source": [
        "2Dimensional"
      ],
      "metadata": {
        "id": "uOIZv-wybFXH"
      }
    },
    {
      "cell_type": "code",
      "source": [
        "y_test[:5]"
      ],
      "metadata": {
        "colab": {
          "base_uri": "https://localhost:8080/"
        },
        "id": "eKetTOBobAAo",
        "outputId": "04a1ebe0-86e1-4aed-9b11-0ea2531baeae"
      },
      "execution_count": 27,
      "outputs": [
        {
          "output_type": "execute_result",
          "data": {
            "text/plain": [
              "array([[3],\n",
              "       [8],\n",
              "       [8],\n",
              "       [0],\n",
              "       [6]], dtype=uint8)"
            ]
          },
          "metadata": {},
          "execution_count": 27
        }
      ]
    },
    {
      "cell_type": "markdown",
      "source": [
        "Converted to 1D"
      ],
      "metadata": {
        "id": "x6MZZfmabOIP"
      }
    },
    {
      "cell_type": "code",
      "source": [
        "y_test = y_test.reshape(-1,)"
      ],
      "metadata": {
        "id": "dlG003mrbROW"
      },
      "execution_count": 28,
      "outputs": []
    },
    {
      "cell_type": "markdown",
      "source": [
        "Predicting"
      ],
      "metadata": {
        "id": "9jmBtGlDbarY"
      }
    },
    {
      "cell_type": "code",
      "source": [
        "y_pred = cnn.predict(X_test)\n",
        "y_pred[:5]"
      ],
      "metadata": {
        "colab": {
          "base_uri": "https://localhost:8080/"
        },
        "id": "-BmEXGnGbd5P",
        "outputId": "359839dd-ed56-411c-a62a-c5d05b1bcd36"
      },
      "execution_count": 29,
      "outputs": [
        {
          "output_type": "stream",
          "name": "stdout",
          "text": [
            "313/313 [==============================] - 4s 12ms/step\n"
          ]
        },
        {
          "output_type": "execute_result",
          "data": {
            "text/plain": [
              "array([[8.7044109e-04, 1.3839065e-04, 9.1580447e-04, 7.9806083e-01,\n",
              "        1.9199956e-04, 1.9785112e-01, 6.7679334e-04, 1.1154930e-05,\n",
              "        3.8963131e-05, 1.2444622e-03],\n",
              "       [3.6732284e-03, 4.4725444e-03, 3.7143991e-06, 1.9376315e-05,\n",
              "        2.8831016e-06, 2.1118664e-08, 4.7689537e-07, 5.0081567e-06,\n",
              "        9.8974788e-01, 2.0748023e-03],\n",
              "       [1.3278334e-01, 2.4255849e-01, 2.6271546e-03, 8.8243932e-03,\n",
              "        1.2116102e-02, 2.6364638e-03, 7.8071898e-04, 1.4586412e-02,\n",
              "        5.4672217e-01, 3.6364697e-02],\n",
              "       [9.7987443e-01, 9.4986585e-04, 2.8080714e-03, 4.5419314e-05,\n",
              "        8.0078660e-04, 2.4518886e-06, 2.6136587e-04, 1.8127951e-06,\n",
              "        1.5015973e-02, 2.3986796e-04],\n",
              "       [4.3739456e-06, 1.4548055e-05, 7.1194544e-02, 3.5638057e-02,\n",
              "        3.5105768e-01, 3.5973010e-03, 5.3848326e-01, 6.5951649e-06,\n",
              "        2.0682703e-06, 1.5561733e-06]], dtype=float32)"
            ]
          },
          "metadata": {},
          "execution_count": 29
        }
      ]
    },
    {
      "cell_type": "markdown",
      "source": [
        "Argmax returns the index of the highes value eg np.argmax([5,12,1,2])\n",
        "the output is 1 because 12 is the highest value at position 1 in the list"
      ],
      "metadata": {
        "id": "PpS3412AbwUN"
      }
    },
    {
      "cell_type": "markdown",
      "source": [
        "Using List comprehension"
      ],
      "metadata": {
        "id": "7fhzebgicnqw"
      }
    },
    {
      "cell_type": "code",
      "source": [
        "y_classes = [np.argmax(element) for element in y_pred]\n",
        "y_classes[:5]"
      ],
      "metadata": {
        "colab": {
          "base_uri": "https://localhost:8080/"
        },
        "id": "xjrhbkDgbpaR",
        "outputId": "7778dc76-64be-48b9-c0c2-427c6d1e5a59"
      },
      "execution_count": 30,
      "outputs": [
        {
          "output_type": "execute_result",
          "data": {
            "text/plain": [
              "[3, 8, 8, 0, 6]"
            ]
          },
          "metadata": {},
          "execution_count": 30
        }
      ]
    },
    {
      "cell_type": "code",
      "source": [
        "y_test[:5]"
      ],
      "metadata": {
        "colab": {
          "base_uri": "https://localhost:8080/"
        },
        "id": "HdrZFgtlcy8I",
        "outputId": "cd6c7719-b87f-4913-83a4-c3796902742b"
      },
      "execution_count": 31,
      "outputs": [
        {
          "output_type": "execute_result",
          "data": {
            "text/plain": [
              "array([3, 8, 8, 0, 6], dtype=uint8)"
            ]
          },
          "metadata": {},
          "execution_count": 31
        }
      ]
    },
    {
      "cell_type": "code",
      "source": [
        "plot_sample(X_test, y_test, 1)"
      ],
      "metadata": {
        "colab": {
          "base_uri": "https://localhost:8080/",
          "height": 237
        },
        "id": "zvXwf7v_c_rw",
        "outputId": "1bad114f-ef27-4589-eb5b-e874f7c601f4"
      },
      "execution_count": 32,
      "outputs": [
        {
          "output_type": "display_data",
          "data": {
            "text/plain": [
              "<Figure size 1500x200 with 1 Axes>"
            ],
            "image/png": "[encoded data removed]"
          },
          "metadata": {}
        }
      ]
    },
    {
      "cell_type": "code",
      "source": [
        "classes[y_classes[1]]"
      ],
      "metadata": {
        "colab": {
          "base_uri": "https://localhost:8080/",
          "height": 36
        },
        "id": "ZQ9xLXaJdKw3",
        "outputId": "a0b7cd01-6eb4-4e08-ed00-01bb9bf0e970"
      },
      "execution_count": 33,
      "outputs": [
        {
          "output_type": "execute_result",
          "data": {
            "text/plain": [
              "'ship'"
            ],
            "application/vnd.google.colaboratory.intrinsic+json": {
              "type": "string"
            }
          },
          "metadata": {},
          "execution_count": 33
        }
      ]
    },
    {
      "cell_type": "markdown",
      "source": [
        "# Confusion Matrix and report"
      ],
      "metadata": {
        "id": "lopjyRkCdoaP"
      }
    },
    {
      "cell_type": "code",
      "source": [
        "print(\"classification Report: \\n\", classification_report(y_test,y_classes))"
      ],
      "metadata": {
        "colab": {
          "base_uri": "https://localhost:8080/"
        },
        "id": "Pri2WeLSdmxZ",
        "outputId": "2ea1a9df-71c4-4f58-b7c6-48b28cb7d4f4"
      },
      "execution_count": 34,
      "outputs": [
        {
          "output_type": "stream",
          "name": "stdout",
          "text": [
            "classification Report: \n",
            "               precision    recall  f1-score   support\n",
            "\n",
            "           0       0.74      0.74      0.74      1000\n",
            "           1       0.81      0.83      0.82      1000\n",
            "           2       0.66      0.54      0.60      1000\n",
            "           3       0.51      0.56      0.54      1000\n",
            "           4       0.64      0.70      0.67      1000\n",
            "           5       0.58      0.67      0.62      1000\n",
            "           6       0.81      0.75      0.78      1000\n",
            "           7       0.78      0.73      0.76      1000\n",
            "           8       0.82      0.82      0.82      1000\n",
            "           9       0.81      0.78      0.80      1000\n",
            "\n",
            "    accuracy                           0.71     10000\n",
            "   macro avg       0.72      0.71      0.71     10000\n",
            "weighted avg       0.72      0.71      0.71     10000\n",
            "\n"
          ]
        }
      ]
    },
    {
      "cell_type": "markdown",
      "source": [
        "# Accuracy: Total number of prediction had right\n",
        "# Precision: Out of all the preiction how many you got right TP/(TP+FP)\n",
        "# recall: How many of your prediction sample eg(dog) how many you had right TP/(TP+FN)\n",
        "# f1-score:\n",
        "# True Positive: No of correct predictions\n",
        "# False Positive: No False predictions\n",
        "# True Negative: false predicted to be true\n",
        "# False Negative:True predicted to be false"
      ],
      "metadata": {
        "id": "LC3Fkluwq7IS"
      }
    }
  ]
}