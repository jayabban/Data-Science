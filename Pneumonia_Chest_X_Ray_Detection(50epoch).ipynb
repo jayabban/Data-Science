{
  "nbformat": 4,
  "nbformat_minor": 0,
  "metadata": {
    "colab": {
      "provenance": [],
      "mount_file_id": "1brjMpa6oeV8WNNnnc1Meo6buMDr8Rq_1",
      "authorship_tag": "ABX9TyOQhX9fneNxJ4Jb9G2cXVRr",
      "include_colab_link": true
    },
    "kernelspec": {
      "name": "python3",
      "display_name": "Python 3"
    },
    "language_info": {
      "name": "python"
    }
  },
  "cells": [
    {
      "cell_type": "markdown",
      "metadata": {
        "id": "view-in-github",
        "colab_type": "text"
      },
      "source": [
        "<a href=\"https://colab.research.google.com/github/jayabban/Data-Science/blob/main/Pneumonia_Chest_X_Ray_Detection(50epoch).ipynb\" target=\"_parent\"><img src=\"https://colab.research.google.com/assets/colab-badge.svg\" alt=\"Open In Colab\"/></a>"
      ]
    },
    {
      "cell_type": "markdown",
      "source": [
        "# **Importing Libraries**"
      ],
      "metadata": {
        "id": "hM8ZNmeXBvWF"
      }
    },
    {
      "cell_type": "code",
      "source": [
        "from google.colab import drive\n",
        "drive.mount('/content/drive')"
      ],
      "metadata": {
        "colab": {
          "base_uri": "https://localhost:8080/"
        },
        "id": "3tase9UMioyg",
        "outputId": "06db8fac-0710-41e9-aede-1fece11ebbfb"
      },
      "execution_count": 1,
      "outputs": [
        {
          "output_type": "stream",
          "name": "stdout",
          "text": [
            "Drive already mounted at /content/drive; to attempt to forcibly remount, call drive.mount(\"/content/drive\", force_remount=True).\n"
          ]
        }
      ]
    },
    {
      "cell_type": "code",
      "execution_count": 2,
      "metadata": {
        "id": "GlJBWI3ODw4O"
      },
      "outputs": [],
      "source": [
        "import tensorflow as tf\n",
        "from tensorflow.keras import datasets, layers, models\n",
        "from keras.layers import BatchNormalization,Dropout\n",
        "from keras.optimizers import SGD\n",
        "from keras.preprocessing.image import ImageDataGenerator\n",
        "import matplotlib.pyplot as plt\n",
        "import seaborn as sns\n",
        "import numpy as np"
      ]
    },
    {
      "cell_type": "markdown",
      "source": [
        "# Data preprocessing"
      ],
      "metadata": {
        "id": "qbqdGl-REgiV"
      }
    },
    {
      "cell_type": "markdown",
      "source": [
        "Preprocessing the Trainning set |\n",
        "We apply some transformation on our trainning image set only to avoid overfitting (Image Augmentation)\n",
        "\n",
        "*   Rotation\n",
        "*   Zoom in and zoom out etc\n",
        "\n",
        "Feature scalling is always compulsory in Neural Network\n",
        "\n"
      ],
      "metadata": {
        "id": "QDo6UiAVfmUH"
      }
    },
    {
      "cell_type": "code",
      "source": [
        "train_datagen = ImageDataGenerator(rescale = 1./255,\n",
        "                                   shear_range = 0.2,\n",
        "                                   zoom_range = 0.2,\n",
        "                                   horizontal_flip = True)\n",
        "training_set = train_datagen.flow_from_directory('/content/drive/MyDrive/Colab Notebooks/Kaggle Dataset/Health_Related_Data/Data_chest_xray/train',classes=('NORMAL','PNEUMONIA'),\n",
        "                                                 target_size = (224, 224),\n",
        "                                                 batch_size = 32,\n",
        "                                                 class_mode = 'binary')"
      ],
      "metadata": {
        "colab": {
          "base_uri": "https://localhost:8080/"
        },
        "id": "yr3d_UnvZE8u",
        "outputId": "86a22119-daa5-4db6-967b-8b05111bfa7c"
      },
      "execution_count": 3,
      "outputs": [
        {
          "output_type": "stream",
          "name": "stdout",
          "text": [
            "Found 5216 images belonging to 2 classes.\n"
          ]
        }
      ]
    },
    {
      "cell_type": "markdown",
      "source": [
        "Preprocessing the test set\n",
        "\n",
        "Batch_size: how many images do we want in each batch"
      ],
      "metadata": {
        "id": "bdU6-CP7jUIH"
      }
    },
    {
      "cell_type": "code",
      "source": [
        "test_datagen = ImageDataGenerator(rescale = 1./255,\n",
        "                                  shear_range = 0.2,\n",
        "                                  zoom_range = 0.2,\n",
        "                                  horizontal_flip = True)\n",
        "test_set = test_datagen.flow_from_directory('/content/drive/MyDrive/Colab Notebooks/Kaggle Dataset/Health_Related_Data/Data_chest_xray/test', classes=('NORMAL','PNEUMONIA'),\n",
        "                                            target_size = (224, 224),\n",
        "                                            batch_size = 32,\n",
        "                                            class_mode = 'binary')"
      ],
      "metadata": {
        "colab": {
          "base_uri": "https://localhost:8080/"
        },
        "id": "jrhyuoYCjhe7",
        "outputId": "e38526c6-ab54-4698-98a8-e650ed790fcf"
      },
      "execution_count": 4,
      "outputs": [
        {
          "output_type": "stream",
          "name": "stdout",
          "text": [
            "Found 624 images belonging to 2 classes.\n"
          ]
        }
      ]
    },
    {
      "cell_type": "markdown",
      "source": [
        "# **Building the CNN**"
      ],
      "metadata": {
        "id": "teYS6yo8OVXO"
      }
    },
    {
      "cell_type": "markdown",
      "source": [
        "# **Function**"
      ],
      "metadata": {
        "id": "6mSL2Xd7A0Cy"
      }
    },
    {
      "cell_type": "code",
      "source": [
        "from tensorflow import keras\n",
        "cnn = tf.keras.models.Sequential()"
      ],
      "metadata": {
        "id": "csxICvNyOlvm"
      },
      "execution_count": 5,
      "outputs": []
    },
    {
      "cell_type": "markdown",
      "source": [
        "# **Convolution**"
      ],
      "metadata": {
        "id": "W9j623lBTQcf"
      }
    },
    {
      "cell_type": "code",
      "source": [
        "cnn.add(tf.keras.layers.Conv2D(filters=32, padding=\"same\", kernel_size=(3,3), activation='relu', input_shape=(224,224,3)))\n",
        "# cnn.add(BatchNormalization())\n",
        "cnn.add(Dropout(0.2))"
      ],
      "metadata": {
        "id": "rmWZdIiQTXvY"
      },
      "execution_count": 6,
      "outputs": []
    },
    {
      "cell_type": "markdown",
      "source": [
        "# **Pooling**"
      ],
      "metadata": {
        "id": "DBdH4__wTbpB"
      }
    },
    {
      "cell_type": "code",
      "source": [
        "cnn.add(tf.keras.layers.MaxPool2D((3,3)))\n",
        "cnn.add(tf.keras.layers.MaxPool2D(pool_size=2, strides=2))"
      ],
      "metadata": {
        "id": "7vscssinTf-Z"
      },
      "execution_count": 7,
      "outputs": []
    },
    {
      "cell_type": "markdown",
      "source": [
        "# **Addind a second convolutional layer**"
      ],
      "metadata": {
        "id": "-xznlWJwTnZn"
      }
    },
    {
      "cell_type": "code",
      "source": [
        "cnn.add(tf.keras.layers.Conv2D(filters=64, padding=\"same\", kernel_size=(3,3),activation='relu'))\n",
        "# cnn.add(BatchNormalization())\n",
        "cnn.add(Dropout(0.2))\n",
        "cnn.add(tf.keras.layers.MaxPool2D(pool_size=2, strides=2))\n"
      ],
      "metadata": {
        "id": "AuAa8wQBT1fn"
      },
      "execution_count": 8,
      "outputs": []
    },
    {
      "cell_type": "markdown",
      "source": [
        "# **Adding a third convolutional layer**"
      ],
      "metadata": {
        "id": "kM9irMfjDfr_"
      }
    },
    {
      "cell_type": "code",
      "source": [
        "cnn.add(tf.keras.layers.Conv2D(filters=128, padding=\"same\", kernel_size=(3,3),activation='relu'))\n",
        "# cnn.add(BatchNormalization())\n",
        "cnn.add(Dropout(0.2))\n",
        "cnn.add(tf.keras.layers.MaxPool2D(pool_size=2, strides=2))"
      ],
      "metadata": {
        "id": "zDlxsDzVDrwG"
      },
      "execution_count": 9,
      "outputs": []
    },
    {
      "cell_type": "markdown",
      "source": [
        "# **Flattening**"
      ],
      "metadata": {
        "id": "jr9s1djzUCY_"
      }
    },
    {
      "cell_type": "markdown",
      "source": [
        "**This is the layer that will help us transform our feature map from 2D - 1D**"
      ],
      "metadata": {
        "id": "6IPfCEosD6FM"
      }
    },
    {
      "cell_type": "code",
      "source": [
        "cnn.add(tf.keras.layers.Flatten())"
      ],
      "metadata": {
        "id": "NxzNJQmEUJyn"
      },
      "execution_count": 10,
      "outputs": []
    },
    {
      "cell_type": "markdown",
      "source": [
        "# **Full Connection**"
      ],
      "metadata": {
        "id": "IdhfDiTQUSQK"
      }
    },
    {
      "cell_type": "code",
      "source": [
        "cnn.add(tf.keras.layers.Dense(1000, activation='relu'))\n",
        "cnn.add(Dropout(0.2))"
      ],
      "metadata": {
        "id": "hwOQRUtlRa-m"
      },
      "execution_count": 11,
      "outputs": []
    },
    {
      "cell_type": "markdown",
      "source": [
        "# **Output Layer**"
      ],
      "metadata": {
        "id": "am9u4lsxUukH"
      }
    },
    {
      "cell_type": "code",
      "source": [
        "cnn.add(tf.keras.layers.Dense(units=1, activation='sigmoid'))"
      ],
      "metadata": {
        "id": "fJQzm_luUzSv"
      },
      "execution_count": 12,
      "outputs": []
    },
    {
      "cell_type": "markdown",
      "source": [
        "# **Trainning the CNN**"
      ],
      "metadata": {
        "id": "IM_8v8miVCuA"
      }
    },
    {
      "cell_type": "markdown",
      "source": [
        "### Compiling"
      ],
      "metadata": {
        "id": "N5-7GGlZVHWf"
      }
    },
    {
      "cell_type": "code",
      "source": [
        "# opt = SGD(learning_rate=0.001)\n",
        "cnn.compile(optimizer = 'adam', loss='binary_crossentropy', metrics=['accuracy'])"
      ],
      "metadata": {
        "id": "zgbjIv9pVGsH"
      },
      "execution_count": 13,
      "outputs": []
    },
    {
      "cell_type": "code",
      "source": [
        "cnn.summary()"
      ],
      "metadata": {
        "id": "30qP2mdtRU3E",
        "colab": {
          "base_uri": "https://localhost:8080/"
        },
        "outputId": "4c792f81-57c9-4d98-e9df-e0a0f2515454"
      },
      "execution_count": 14,
      "outputs": [
        {
          "output_type": "stream",
          "name": "stdout",
          "text": [
            "Model: \"sequential\"\n",
            "_________________________________________________________________\n",
            " Layer (type)                Output Shape              Param #   \n",
            "=================================================================\n",
            " conv2d (Conv2D)             (None, 224, 224, 32)      896       \n",
            "                                                                 \n",
            " dropout (Dropout)           (None, 224, 224, 32)      0         \n",
            "                                                                 \n",
            " max_pooling2d (MaxPooling2  (None, 74, 74, 32)        0         \n",
            " D)                                                              \n",
            "                                                                 \n",
            " max_pooling2d_1 (MaxPoolin  (None, 37, 37, 32)        0         \n",
            " g2D)                                                            \n",
            "                                                                 \n",
            " conv2d_1 (Conv2D)           (None, 37, 37, 64)        18496     \n",
            "                                                                 \n",
            " dropout_1 (Dropout)         (None, 37, 37, 64)        0         \n",
            "                                                                 \n",
            " max_pooling2d_2 (MaxPoolin  (None, 18, 18, 64)        0         \n",
            " g2D)                                                            \n",
            "                                                                 \n",
            " conv2d_2 (Conv2D)           (None, 18, 18, 128)       73856     \n",
            "                                                                 \n",
            " dropout_2 (Dropout)         (None, 18, 18, 128)       0         \n",
            "                                                                 \n",
            " max_pooling2d_3 (MaxPoolin  (None, 9, 9, 128)         0         \n",
            " g2D)                                                            \n",
            "                                                                 \n",
            " flatten (Flatten)           (None, 10368)             0         \n",
            "                                                                 \n",
            " dense (Dense)               (None, 1000)              10369000  \n",
            "                                                                 \n",
            " dropout_3 (Dropout)         (None, 1000)              0         \n",
            "                                                                 \n",
            " dense_1 (Dense)             (None, 1)                 1001      \n",
            "                                                                 \n",
            "=================================================================\n",
            "Total params: 10463249 (39.91 MB)\n",
            "Trainable params: 10463249 (39.91 MB)\n",
            "Non-trainable params: 0 (0.00 Byte)\n",
            "_________________________________________________________________\n"
          ]
        }
      ]
    },
    {
      "cell_type": "markdown",
      "source": [
        "### Trainning the CNN on the trainning set and evaluating it on the test set"
      ],
      "metadata": {
        "id": "1MMBrRKIVaff"
      }
    },
    {
      "cell_type": "code",
      "source": [
        "# cnn.fit(x = training_set, validation_data = test_set, epochs = 100)\n",
        "history = cnn.fit(x = training_set, validation_data= test_set, steps_per_epoch= 3, epochs = 50, validation_steps = 3, verbose=2)"
      ],
      "metadata": {
        "colab": {
          "base_uri": "https://localhost:8080/"
        },
        "id": "abQmNaynVuM3",
        "outputId": "921c5aa4-ba95-48c1-949a-92e5856d99a4"
      },
      "execution_count": 15,
      "outputs": [
        {
          "output_type": "stream",
          "name": "stdout",
          "text": [
            "Epoch 1/50\n",
            "3/3 - 44s - loss: 2.5850 - accuracy: 0.7500 - val_loss: 0.6151 - val_accuracy: 0.7396 - 44s/epoch - 15s/step\n",
            "Epoch 2/50\n",
            "3/3 - 15s - loss: 0.6766 - accuracy: 0.4688 - val_loss: 0.6911 - val_accuracy: 0.6354 - 15s/epoch - 5s/step\n",
            "Epoch 3/50\n",
            "3/3 - 14s - loss: 0.6447 - accuracy: 0.6979 - val_loss: 0.6991 - val_accuracy: 0.5312 - 14s/epoch - 5s/step\n",
            "Epoch 4/50\n",
            "3/3 - 14s - loss: 0.5370 - accuracy: 0.7708 - val_loss: 0.7117 - val_accuracy: 0.6042 - 14s/epoch - 5s/step\n",
            "Epoch 5/50\n",
            "3/3 - 15s - loss: 0.6491 - accuracy: 0.7292 - val_loss: 0.6279 - val_accuracy: 0.6875 - 15s/epoch - 5s/step\n",
            "Epoch 6/50\n",
            "3/3 - 15s - loss: 0.6237 - accuracy: 0.6979 - val_loss: 0.6723 - val_accuracy: 0.5938 - 15s/epoch - 5s/step\n",
            "Epoch 7/50\n",
            "3/3 - 16s - loss: 0.5794 - accuracy: 0.7708 - val_loss: 0.6646 - val_accuracy: 0.6042 - 16s/epoch - 5s/step\n",
            "Epoch 8/50\n",
            "3/3 - 16s - loss: 0.5790 - accuracy: 0.7292 - val_loss: 0.6519 - val_accuracy: 0.6354 - 16s/epoch - 5s/step\n",
            "Epoch 9/50\n",
            "3/3 - 14s - loss: 0.5549 - accuracy: 0.7396 - val_loss: 0.6501 - val_accuracy: 0.5938 - 14s/epoch - 5s/step\n",
            "Epoch 10/50\n",
            "3/3 - 16s - loss: 0.4853 - accuracy: 0.8021 - val_loss: 0.6160 - val_accuracy: 0.6458 - 16s/epoch - 5s/step\n",
            "Epoch 11/50\n",
            "3/3 - 16s - loss: 0.6265 - accuracy: 0.7188 - val_loss: 0.6490 - val_accuracy: 0.5938 - 16s/epoch - 5s/step\n",
            "Epoch 12/50\n",
            "3/3 - 14s - loss: 0.3759 - accuracy: 0.8646 - val_loss: 0.5700 - val_accuracy: 0.6562 - 14s/epoch - 5s/step\n",
            "Epoch 13/50\n",
            "3/3 - 21s - loss: 0.4032 - accuracy: 0.8229 - val_loss: 0.6453 - val_accuracy: 0.5417 - 21s/epoch - 7s/step\n",
            "Epoch 14/50\n",
            "3/3 - 16s - loss: 0.4329 - accuracy: 0.7396 - val_loss: 0.5030 - val_accuracy: 0.8333 - 16s/epoch - 5s/step\n",
            "Epoch 15/50\n",
            "3/3 - 19s - loss: 0.3870 - accuracy: 0.8646 - val_loss: 0.5943 - val_accuracy: 0.6042 - 19s/epoch - 6s/step\n",
            "Epoch 16/50\n",
            "3/3 - 15s - loss: 0.3454 - accuracy: 0.8542 - val_loss: 0.5157 - val_accuracy: 0.6771 - 15s/epoch - 5s/step\n",
            "Epoch 17/50\n",
            "3/3 - 16s - loss: 0.2979 - accuracy: 0.8854 - val_loss: 0.6197 - val_accuracy: 0.6667 - 16s/epoch - 5s/step\n",
            "Epoch 18/50\n",
            "3/3 - 15s - loss: 0.4311 - accuracy: 0.7188 - val_loss: 0.4065 - val_accuracy: 0.7812 - 15s/epoch - 5s/step\n",
            "Epoch 19/50\n",
            "3/3 - 15s - loss: 0.3172 - accuracy: 0.8854 - val_loss: 0.4874 - val_accuracy: 0.7083 - 15s/epoch - 5s/step\n",
            "Epoch 20/50\n",
            "3/3 - 16s - loss: 0.2661 - accuracy: 0.8854 - val_loss: 0.4948 - val_accuracy: 0.7917 - 16s/epoch - 5s/step\n",
            "Epoch 21/50\n",
            "3/3 - 16s - loss: 0.3148 - accuracy: 0.8854 - val_loss: 0.4548 - val_accuracy: 0.8125 - 16s/epoch - 5s/step\n",
            "Epoch 22/50\n",
            "3/3 - 15s - loss: 0.2407 - accuracy: 0.9167 - val_loss: 0.4500 - val_accuracy: 0.8021 - 15s/epoch - 5s/step\n",
            "Epoch 23/50\n",
            "3/3 - 15s - loss: 0.2352 - accuracy: 0.8750 - val_loss: 0.3387 - val_accuracy: 0.8333 - 15s/epoch - 5s/step\n",
            "Epoch 24/50\n",
            "3/3 - 15s - loss: 0.2554 - accuracy: 0.8854 - val_loss: 0.4783 - val_accuracy: 0.7500 - 15s/epoch - 5s/step\n",
            "Epoch 25/50\n",
            "3/3 - 16s - loss: 0.2608 - accuracy: 0.8750 - val_loss: 0.3573 - val_accuracy: 0.8542 - 16s/epoch - 5s/step\n",
            "Epoch 26/50\n",
            "3/3 - 14s - loss: 0.2953 - accuracy: 0.8750 - val_loss: 0.5438 - val_accuracy: 0.7083 - 14s/epoch - 5s/step\n",
            "Epoch 27/50\n",
            "3/3 - 16s - loss: 0.2845 - accuracy: 0.8438 - val_loss: 0.4980 - val_accuracy: 0.7396 - 16s/epoch - 5s/step\n",
            "Epoch 28/50\n",
            "3/3 - 16s - loss: 0.2347 - accuracy: 0.8958 - val_loss: 0.5015 - val_accuracy: 0.7917 - 16s/epoch - 5s/step\n",
            "Epoch 29/50\n",
            "3/3 - 15s - loss: 0.2582 - accuracy: 0.8854 - val_loss: 0.5195 - val_accuracy: 0.7188 - 15s/epoch - 5s/step\n",
            "Epoch 30/50\n",
            "3/3 - 15s - loss: 0.2817 - accuracy: 0.8854 - val_loss: 0.3621 - val_accuracy: 0.8438 - 15s/epoch - 5s/step\n",
            "Epoch 31/50\n",
            "3/3 - 19s - loss: 0.2487 - accuracy: 0.8854 - val_loss: 0.4346 - val_accuracy: 0.7812 - 19s/epoch - 6s/step\n",
            "Epoch 32/50\n",
            "3/3 - 16s - loss: 0.2212 - accuracy: 0.8750 - val_loss: 0.3057 - val_accuracy: 0.8854 - 16s/epoch - 5s/step\n",
            "Epoch 33/50\n",
            "3/3 - 15s - loss: 0.3198 - accuracy: 0.8750 - val_loss: 0.3816 - val_accuracy: 0.8125 - 15s/epoch - 5s/step\n",
            "Epoch 34/50\n",
            "3/3 - 15s - loss: 0.2301 - accuracy: 0.9375 - val_loss: 0.4039 - val_accuracy: 0.7812 - 15s/epoch - 5s/step\n",
            "Epoch 35/50\n",
            "3/3 - 14s - loss: 0.3233 - accuracy: 0.8438 - val_loss: 0.3097 - val_accuracy: 0.8542 - 14s/epoch - 5s/step\n",
            "Epoch 36/50\n",
            "3/3 - 15s - loss: 0.2816 - accuracy: 0.9062 - val_loss: 0.5207 - val_accuracy: 0.6979 - 15s/epoch - 5s/step\n",
            "Epoch 37/50\n",
            "3/3 - 14s - loss: 0.2203 - accuracy: 0.9062 - val_loss: 0.3700 - val_accuracy: 0.8333 - 14s/epoch - 5s/step\n",
            "Epoch 38/50\n",
            "3/3 - 16s - loss: 0.1750 - accuracy: 0.9271 - val_loss: 0.3664 - val_accuracy: 0.8021 - 16s/epoch - 5s/step\n",
            "Epoch 39/50\n",
            "3/3 - 15s - loss: 0.2297 - accuracy: 0.9271 - val_loss: 0.6115 - val_accuracy: 0.7083 - 15s/epoch - 5s/step\n",
            "Epoch 40/50\n",
            "3/3 - 15s - loss: 0.2548 - accuracy: 0.8958 - val_loss: 0.4973 - val_accuracy: 0.7812 - 15s/epoch - 5s/step\n",
            "Epoch 41/50\n",
            "3/3 - 15s - loss: 0.2416 - accuracy: 0.8750 - val_loss: 0.5051 - val_accuracy: 0.7812 - 15s/epoch - 5s/step\n",
            "Epoch 42/50\n",
            "3/3 - 15s - loss: 0.1964 - accuracy: 0.9167 - val_loss: 0.7231 - val_accuracy: 0.7083 - 15s/epoch - 5s/step\n",
            "Epoch 43/50\n",
            "3/3 - 19s - loss: 0.2183 - accuracy: 0.8958 - val_loss: 0.5705 - val_accuracy: 0.7812 - 19s/epoch - 6s/step\n",
            "Epoch 44/50\n",
            "3/3 - 15s - loss: 0.2451 - accuracy: 0.9062 - val_loss: 0.3284 - val_accuracy: 0.8125 - 15s/epoch - 5s/step\n",
            "Epoch 45/50\n",
            "3/3 - 15s - loss: 0.1554 - accuracy: 0.9583 - val_loss: 0.4870 - val_accuracy: 0.7917 - 15s/epoch - 5s/step\n",
            "Epoch 46/50\n",
            "3/3 - 19s - loss: 0.2294 - accuracy: 0.9062 - val_loss: 0.5171 - val_accuracy: 0.7396 - 19s/epoch - 6s/step\n",
            "Epoch 47/50\n",
            "3/3 - 19s - loss: 0.3115 - accuracy: 0.8854 - val_loss: 0.4267 - val_accuracy: 0.7917 - 19s/epoch - 6s/step\n",
            "Epoch 48/50\n",
            "3/3 - 16s - loss: 0.1944 - accuracy: 0.8854 - val_loss: 0.3250 - val_accuracy: 0.8542 - 16s/epoch - 5s/step\n",
            "Epoch 49/50\n",
            "3/3 - 16s - loss: 0.2479 - accuracy: 0.8958 - val_loss: 0.4826 - val_accuracy: 0.7917 - 16s/epoch - 5s/step\n",
            "Epoch 50/50\n",
            "3/3 - 16s - loss: 0.1426 - accuracy: 0.9583 - val_loss: 0.3628 - val_accuracy: 0.8646 - 16s/epoch - 5s/step\n"
          ]
        }
      ]
    },
    {
      "cell_type": "markdown",
      "source": [
        "**Save Model**"
      ],
      "metadata": {
        "id": "cZFPhIiwvwgN"
      }
    },
    {
      "cell_type": "code",
      "source": [
        "# cnn.save('Chest_X-Ray_cnn_model.h5')"
      ],
      "metadata": {
        "id": "xyvpu48Av0sF"
      },
      "execution_count": 16,
      "outputs": []
    },
    {
      "cell_type": "markdown",
      "source": [
        "# **Ploting using Matplotlib**"
      ],
      "metadata": {
        "id": "MVXYjD0v86P8"
      }
    },
    {
      "cell_type": "code",
      "source": [
        "\n",
        "plt.plot(history.history['accuracy'])\n",
        "plt.plot(history.history['val_accuracy'], 'r')\n",
        "plt.title('model accuracy')\n",
        "plt.ylabel('accuracy')\n",
        "plt.xlabel('epoch')\n",
        "plt.legend(['train','validation'], loc='upper left')\n",
        "plt.show()"
      ],
      "metadata": {
        "colab": {
          "base_uri": "https://localhost:8080/",
          "height": 472
        },
        "id": "uhVdOjBH9BG0",
        "outputId": "768fd0ed-97ce-4d0c-a8cf-b21a698a6afd"
      },
      "execution_count": 17,
      "outputs": [
        {
          "output_type": "display_data",
          "data": {
            "text/plain": [
              "<Figure size 640x480 with 1 Axes>"
            ],
            "image/png": "[encoded data removed]"
          },
          "metadata": {}
        }
      ]
    },
    {
      "cell_type": "code",
      "source": [
        "\n",
        "plt.plot(history.history['loss'])\n",
        "plt.plot(history.history['val_loss'], 'r')\n",
        "plt.title('model loss')\n",
        "plt.ylabel('loss')\n",
        "plt.xlabel('epoch')\n",
        "plt.legend(['train','validation'], loc='upper right')\n",
        "plt.show()"
      ],
      "metadata": {
        "colab": {
          "base_uri": "https://localhost:8080/",
          "height": 472
        },
        "id": "XroZFpUk-2qp",
        "outputId": "c60a396e-3080-4a1d-fe6f-273a6efa3b7c"
      },
      "execution_count": 18,
      "outputs": [
        {
          "output_type": "display_data",
          "data": {
            "text/plain": [
              "<Figure size 640x480 with 1 Axes>"
            ],
            "image/png": "[encoded data removed]"
          },
          "metadata": {}
        }
      ]
    },
    {
      "cell_type": "markdown",
      "source": [
        "# **Prediction**"
      ],
      "metadata": {
        "id": "xna84PB4uWuE"
      }
    },
    {
      "cell_type": "code",
      "source": [
        "predictions = cnn.predict(test_set)\n",
        "y_pred = (predictions > 0.5).astype(int)"
      ],
      "metadata": {
        "colab": {
          "base_uri": "https://localhost:8080/"
        },
        "id": "h3JJf7WVt60Z",
        "outputId": "df9ff5e8-30a2-46d4-ab48-73be24684ba3"
      },
      "execution_count": 19,
      "outputs": [
        {
          "output_type": "stream",
          "name": "stdout",
          "text": [
            "20/20 [==============================] - 24s 1s/step\n"
          ]
        }
      ]
    },
    {
      "cell_type": "markdown",
      "source": [
        "# **Evaluation**"
      ],
      "metadata": {
        "id": "0-EtiqHuuiHg"
      }
    },
    {
      "cell_type": "code",
      "source": [
        "from sklearn.metrics import classification_report\n",
        "train_score = cnn.evaluate(training_set, batch_size=32)\n",
        "test_score = cnn.evaluate(test_set, steps=test_set.samples, batch_size=32)\n",
        "\n",
        "print(\"Train Loss:\", train_score[0])\n",
        "print(\"Train Accuracy:\", train_score[1])\n",
        "print('-' * 20)\n",
        "print(\"Test Loss:\", test_score[0])\n",
        "print(\"Test Accuracy:\", test_score[1])\n",
        "print('-' * 20)\n",
        "\n",
        "\n",
        "print(classification_report(test_set.classes, y_pred, target_names=[\"Normal\", \"Pneumonia\"]))"
      ],
      "metadata": {
        "colab": {
          "base_uri": "https://localhost:8080/"
        },
        "id": "2ocxEuZIukdi",
        "outputId": "03f72c53-45fe-44a9-849b-5f4fdf4badd5"
      },
      "execution_count": 20,
      "outputs": [
        {
          "output_type": "stream",
          "name": "stdout",
          "text": [
            "163/163 [==============================] - 210s 1s/step - loss: 0.2464 - accuracy: 0.9141\n",
            " 20/624 [..............................] - ETA: 11:36 - loss: 0.4041 - accuracy: 0.8109"
          ]
        },
        {
          "output_type": "stream",
          "name": "stderr",
          "text": [
            "WARNING:tensorflow:Your input ran out of data; interrupting training. Make sure that your dataset or generator can generate at least `steps_per_epoch * epochs` batches (in this case, 624 batches). You may need to use the repeat() function when building your dataset.\n"
          ]
        },
        {
          "output_type": "stream",
          "name": "stdout",
          "text": [
            "\b\b\b\b\b\b\b\b\b\b\b\b\b\b\b\b\b\b\b\b\b\b\b\b\b\b\b\b\b\b\b\b\b\b\b\b\b\b\b\b\b\b\b\b\b\b\b\b\b\b\b\b\b\b\b\b\b\b\b\b\b\b\b\b\b\b\b\b\b\b\b\b\b\b\b\b\b\b\b\b\b\b\b\b\b\b\b\r624/624 [==============================] - 24s 35ms/step - loss: 0.4041 - accuracy: 0.8109\n",
            "Train Loss: 0.24639225006103516\n",
            "Train Accuracy: 0.9141104221343994\n",
            "--------------------\n",
            "Test Loss: 0.40413349866867065\n",
            "Test Accuracy: 0.8108974099159241\n",
            "--------------------\n",
            "              precision    recall  f1-score   support\n",
            "\n",
            "      Normal       0.40      0.27      0.32       234\n",
            "   Pneumonia       0.63      0.75      0.69       390\n",
            "\n",
            "    accuracy                           0.57       624\n",
            "   macro avg       0.51      0.51      0.50       624\n",
            "weighted avg       0.54      0.57      0.55       624\n",
            "\n"
          ]
        }
      ]
    },
    {
      "cell_type": "code",
      "source": [
        "# batch_images, batch_labels = next(test_set)\n",
        "\n",
        "# fig,axes = plt.subplots(nrows=5,ncols=2,figsize=(12,8),subplot_kw={'xticks':[],'yticks':[]})\n",
        "\n",
        "# for i, ax in enumerate(axes.flat):\n",
        "#     ax.imshow(batch_images[i])\n",
        "#     ax.set_title(f\"True:{test_set.classes[i]}\\n Predicted:{predictions[i]}\")\n",
        "\n",
        "# plt.tight_layout()\n",
        "# plt.show()\n",
        ""
      ],
      "metadata": {
        "collapsed": true,
        "id": "OFR01NYE0sfV"
      },
      "execution_count": 21,
      "outputs": []
    },
    {
      "cell_type": "markdown",
      "source": [
        "# **Confusion Matrix**"
      ],
      "metadata": {
        "id": "aPupbIXavPPP"
      }
    },
    {
      "cell_type": "code",
      "source": [
        "from sklearn.metrics import accuracy_score , confusion_matrix\n",
        "cm = confusion_matrix(test_set.classes, y_pred)\n",
        "\n",
        "plt.figure(figsize=(6,6))\n",
        "sns.heatmap(cm, annot=True, fmt='d', cmap='Blues', cbar=False, square=True, xticklabels=[\"Normal\", \"Pneumonia\"], yticklabels=[\"Normal\", \"Pneumonia\"])\n",
        "plt.xlabel('Predicted')\n",
        "plt.ylabel('Actual')\n",
        "plt.title('Confusion Matrix')\n",
        "plt.show()"
      ],
      "metadata": {
        "id": "UCK7QnbAvY0n",
        "colab": {
          "base_uri": "https://localhost:8080/",
          "height": 564
        },
        "outputId": "885a5a0e-738d-422e-eb10-f73702efce41"
      },
      "execution_count": 22,
      "outputs": [
        {
          "output_type": "display_data",
          "data": {
            "text/plain": [
              "<Figure size 600x600 with 1 Axes>"
            ],
            "image/png": "[encoded data removed]"
          },
          "metadata": {}
        }
      ]
    },
    {
      "cell_type": "markdown",
      "source": [
        "# **Predict_also**"
      ],
      "metadata": {
        "id": "4AfHu0kV_peo"
      }
    },
    {
      "cell_type": "code",
      "source": [
        "# batch_size = test_set.batch_size\n",
        "# num_batches = 1\n",
        "\n",
        "# for i in range(num_batches):\n",
        "#     x, y = next(test_set)\n",
        "#     predictions = cnn.predict(x)\n",
        "\n",
        "#     for j in range(min(batch_size, 8)):\n",
        "#         image = x[j]\n",
        "#         plt.imshow(image)\n",
        "#         plt.show()\n",
        "#         print('The probability of Pneumonia is: ', predictions[j])"
      ],
      "metadata": {
        "collapsed": true,
        "id": "8bQoUANE_sin"
      },
      "execution_count": 23,
      "outputs": []
    },
    {
      "cell_type": "code",
      "source": [
        "import numpy as np\n",
        "from keras.preprocessing import image\n",
        "test_image = image.load_img('/content/drive/MyDrive/Colab Notebooks/Kaggle Dataset/Health_Related_Data/Data_chest_xray/predict/Normal_or_Abnormal_6.jpeg', target_size = (224, 224))\n",
        "test_image = image.img_to_array(test_image)\n",
        "test_image = np.expand_dims(test_image, axis = 0)\n",
        "\n",
        "#Performing Single Predictions\n",
        "\n",
        "result = cnn.predict(test_image/255.0)\n",
        "training_set.class_indices\n",
        "if result[0][0] > 0.5:\n",
        "    prediction = 'Pneumonia'\n",
        "else:\n",
        "    prediction = 'Normal'\n",
        "print(prediction)\n",
        "\n",
        "\n"
      ],
      "metadata": {
        "colab": {
          "base_uri": "https://localhost:8080/"
        },
        "id": "v00FdjriFV2b",
        "outputId": "557437c8-e04a-4c5b-d96b-2071b8de3824"
      },
      "execution_count": 39,
      "outputs": [
        {
          "output_type": "stream",
          "name": "stdout",
          "text": [
            "1/1 [==============================] - 0s 52ms/step\n",
            "Pneumonia\n"
          ]
        }
      ]
    },
    {
      "cell_type": "markdown",
      "source": [
        "# **Save Model**"
      ],
      "metadata": {
        "id": "L_JXPnCE3Urr"
      }
    },
    {
      "cell_type": "code",
      "source": [
        "my_model = cnn.save('pneumonia_detection.h5')"
      ],
      "metadata": {
        "colab": {
          "base_uri": "https://localhost:8080/"
        },
        "id": "dbYJ5w953S4b",
        "outputId": "e6ed7147-0d95-4139-fd62-0ea8b6f82735"
      },
      "execution_count": 25,
      "outputs": [
        {
          "output_type": "stream",
          "name": "stderr",
          "text": [
            "/usr/local/lib/python3.10/dist-packages/keras/src/engine/training.py:3103: UserWarning: You are saving your model as an HDF5 file via `model.save()`. This file format is considered legacy. We recommend using instead the native Keras format, e.g. `model.save('my_model.keras')`.\n",
            "  saving_api.save_model(\n"
          ]
        }
      ]
    }
  ]
}