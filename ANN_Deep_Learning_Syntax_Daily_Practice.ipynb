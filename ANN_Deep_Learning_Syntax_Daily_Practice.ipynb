{
  "nbformat": 4,
  "nbformat_minor": 0,
  "metadata": {
    "colab": {
      "provenance": [],
      "authorship_tag": "ABX9TyPZwqYE0ofZGAL3fReIWcBP",
      "include_colab_link": true
    },
    "kernelspec": {
      "name": "python3",
      "display_name": "Python 3"
    },
    "language_info": {
      "name": "python"
    }
  },
  "cells": [
    {
      "cell_type": "markdown",
      "metadata": {
        "id": "view-in-github",
        "colab_type": "text"
      },
      "source": [
        "<a href=\"https://colab.research.google.com/github/jayabban/Data-Science/blob/main/ANN_Deep_Learning_Syntax_Daily_Practice.ipynb\" target=\"_parent\"><img src=\"https://colab.research.google.com/assets/colab-badge.svg\" alt=\"Open In Colab\"/></a>"
      ]
    },
    {
      "cell_type": "markdown",
      "source": [
        "Scale the Data"
      ],
      "metadata": {
        "id": "YpyoazOUJ5J_"
      }
    },
    {
      "cell_type": "code",
      "execution_count": null,
      "metadata": {
        "id": "oJXTp3LZJrXZ"
      },
      "outputs": [],
      "source": [
        "from sklearn.preprocessing import StandardScaler\n",
        "sc = StandardScaler()\n",
        "X_train = sc.fit_transform(X_train)\n",
        "X_test = sc.transform(X_test)"
      ]
    },
    {
      "cell_type": "markdown",
      "source": [
        "Initializing Atificial Neural Network"
      ],
      "metadata": {
        "id": "YgSGEYFfJ3_h"
      }
    },
    {
      "cell_type": "code",
      "source": [
        "ann.keras.models.Sequential()"
      ],
      "metadata": {
        "id": "oO0tkAp3Khlv"
      },
      "execution_count": null,
      "outputs": []
    },
    {
      "cell_type": "markdown",
      "source": [
        "Creating Hidden Layers"
      ],
      "metadata": {
        "id": "HTwbYmW4Koqe"
      }
    },
    {
      "cell_type": "code",
      "source": [
        "ann.add(tf.keras.layers.Dense(unit=6, activation='relu' ))"
      ],
      "metadata": {
        "id": "_tpu6pCsKnpx"
      },
      "execution_count": null,
      "outputs": []
    },
    {
      "cell_type": "markdown",
      "source": [
        "Adding the second hidden layer"
      ],
      "metadata": {
        "id": "BrxnJGtxLGe3"
      }
    },
    {
      "cell_type": "code",
      "source": [
        "ann.add(tf.keras.layers.Dense(unit=6, activation='relu' ))"
      ],
      "metadata": {
        "id": "rZKNdSKALF6H"
      },
      "execution_count": null,
      "outputs": []
    },
    {
      "cell_type": "markdown",
      "source": [
        "Adding the output layer"
      ],
      "metadata": {
        "id": "dhe6ThwbLZYn"
      }
    },
    {
      "cell_type": "code",
      "source": [
        "ann.add(tf.keras.layers.Dense(unit=6, activation='sigmoid' ))"
      ],
      "metadata": {
        "id": "PqZfhJiNLO6P"
      },
      "execution_count": null,
      "outputs": []
    },
    {
      "cell_type": "markdown",
      "source": [
        "**Trainning the ANN**"
      ],
      "metadata": {
        "id": "dGZGTGLrLp85"
      }
    },
    {
      "cell_type": "markdown",
      "source": [
        "Compiling the ANN"
      ],
      "metadata": {
        "id": "NluFUECwLu1O"
      }
    },
    {
      "cell_type": "code",
      "source": [
        "ann.compile(optimizer = 'adam', loss = 'binary_crossentropy', metrics = ['accuracy'])"
      ],
      "metadata": {
        "id": "4r91NJhsLou3"
      },
      "execution_count": null,
      "outputs": []
    },
    {
      "cell_type": "markdown",
      "source": [
        "Trainning the ANN Model on the trainning set"
      ],
      "metadata": {
        "id": "48U0GzqrL3W2"
      }
    },
    {
      "cell_type": "code",
      "source": [
        "ann.fit(X_train, y_train, batch_size = 32, epochs = 100)"
      ],
      "metadata": {
        "id": "_0Z_mkQTL16e"
      },
      "execution_count": null,
      "outputs": []
    },
    {
      "cell_type": "markdown",
      "source": [
        "Predicting on a single data"
      ],
      "metadata": {
        "id": "njK3DSXISzRi"
      }
    },
    {
      "cell_type": "code",
      "source": [
        "print(ann.predict(sc.transform([[1, 0, 0, 600, 1, 40, 3, 60000, 2, 1, 1, 50000]])) > 0.5)"
      ],
      "metadata": {
        "id": "nquxFnydS65k"
      },
      "execution_count": null,
      "outputs": []
    },
    {
      "cell_type": "markdown",
      "source": [
        "Predicting the Result"
      ],
      "metadata": {
        "id": "VAqXBI0wMINH"
      }
    },
    {
      "cell_type": "code",
      "source": [
        "y_pred = ann.predict(X_test)\n",
        "y_pred = (y_pred > 0.5)\n",
        "print(np.concatenate((y_pred.reshape(len(y_pred),1), y_test.reshape(len(y_test),1)),1))"
      ],
      "metadata": {
        "id": "Z-ZEuK8yMLMv"
      },
      "execution_count": null,
      "outputs": []
    },
    {
      "cell_type": "markdown",
      "source": [
        "Making the Confusion Matrix"
      ],
      "metadata": {
        "id": "pmC0J3U5MQFO"
      }
    },
    {
      "cell_type": "code",
      "source": [
        "from sklearn.metrics import confusion_matrix, accuracy_score\n",
        "cm = confusion_matrix(y_test, y_pred)\n",
        "print(cm)\n",
        "accuracy_score(y_test, y_pred)"
      ],
      "metadata": {
        "id": "9FXHC-tPMPXW"
      },
      "execution_count": null,
      "outputs": []
    },
    {
      "cell_type": "markdown",
      "source": [
        "Trying my hands on"
      ],
      "metadata": {
        "id": "w8HZO_odNceV"
      }
    },
    {
      "cell_type": "markdown",
      "source": [
        "Feature Scaling"
      ],
      "metadata": {
        "id": "H90BWrF2PvPF"
      }
    },
    {
      "cell_type": "code",
      "source": [
        "from sklearn.preprocessing import StandardScaler\n",
        "sc = StandardScaler()\n",
        "X_train = sc.fit_transform(X_train)\n",
        "X_test = sc.transform(X_test)"
      ],
      "metadata": {
        "id": "fbafs4y3PyX2"
      },
      "execution_count": null,
      "outputs": []
    },
    {
      "cell_type": "markdown",
      "source": [
        "Initializing the ANN"
      ],
      "metadata": {
        "id": "ak7sewCwNfhM"
      }
    },
    {
      "cell_type": "code",
      "source": [
        "ann = keras.models.Sequential()"
      ],
      "metadata": {
        "id": "I2N3KQAANb4d"
      },
      "execution_count": null,
      "outputs": []
    },
    {
      "cell_type": "markdown",
      "source": [
        "Adding the input layers and the first hidden layer"
      ],
      "metadata": {
        "id": "7N54uaJ7Nmd-"
      }
    },
    {
      "cell_type": "code",
      "source": [
        "ann = add(tf.keras.layers.Dense(unit=6, activation='relu'))"
      ],
      "metadata": {
        "id": "r_UTwl1INvBt"
      },
      "execution_count": null,
      "outputs": []
    },
    {
      "cell_type": "markdown",
      "source": [
        "Adding the second input layer"
      ],
      "metadata": {
        "id": "UKmtjNpaNvVG"
      }
    },
    {
      "cell_type": "code",
      "source": [
        "ann =add(tf.keras.layers.Dense(units=6, activation='relu'))"
      ],
      "metadata": {
        "id": "GsFB3oScNzNu"
      },
      "execution_count": null,
      "outputs": []
    },
    {
      "cell_type": "markdown",
      "source": [
        "Adding the output layer"
      ],
      "metadata": {
        "id": "ZPISPfP8NzWW"
      }
    },
    {
      "cell_type": "code",
      "source": [
        "ann =add(tf.keras.layers.Dense(units=1, activation='segmoid'))"
      ],
      "metadata": {
        "id": "suhPtlBDN2qd"
      },
      "execution_count": null,
      "outputs": []
    },
    {
      "cell_type": "markdown",
      "source": [
        "Trainning the ANN"
      ],
      "metadata": {
        "id": "Opgd9_GKN3be"
      }
    },
    {
      "cell_type": "markdown",
      "source": [
        "Compiling the ANN"
      ],
      "metadata": {
        "id": "lOMGpcRfOBJe"
      }
    },
    {
      "cell_type": "code",
      "source": [
        "ann.complie(optimizer='adam', loss='binary_crossentropy', metrics=['accuracy'])"
      ],
      "metadata": {
        "id": "YlEqkfm8N_c1"
      },
      "execution_count": null,
      "outputs": []
    },
    {
      "cell_type": "markdown",
      "source": [
        "Trainning the ANN on the Trainning set"
      ],
      "metadata": {
        "id": "Hl9CRX_7N9SF"
      }
    },
    {
      "cell_type": "code",
      "source": [
        "ann.fit(X_train,y_train, batch_size=32, epochs=100)"
      ],
      "metadata": {
        "id": "K9y6qtGcOO1N"
      },
      "execution_count": null,
      "outputs": []
    },
    {
      "cell_type": "markdown",
      "source": [],
      "metadata": {
        "id": "LjoWHb1MSuTE"
      }
    },
    {
      "cell_type": "markdown",
      "source": [
        "Making the prediction and evaluating the model"
      ],
      "metadata": {
        "id": "dOr9RrKHOVLF"
      }
    },
    {
      "cell_type": "code",
      "source": [],
      "metadata": {
        "id": "0Ndhw7gaOT6d"
      },
      "execution_count": null,
      "outputs": []
    },
    {
      "cell_type": "markdown",
      "source": [
        "Predicting the test result"
      ],
      "metadata": {
        "id": "5Py_9jocOUWe"
      }
    },
    {
      "cell_type": "code",
      "source": [
        "# y_pred = ann.predict(X_test)\n",
        "# y_pred = (y_preg > 0.5)\n",
        "# print(np.concatenate((y_pred.reshape(len(y_pred),1))))\n",
        "\n",
        "y_pred = ann.predict(X_test)\n",
        "y_pred = (y_pred > 0.5)\n",
        "print(np.concatenate((y_pred.reshape(len(y_pred),1), y_test.reshape(len(y_pred),1)))"
      ],
      "metadata": {
        "id": "wvDo7kYBOjWN"
      },
      "execution_count": null,
      "outputs": []
    },
    {
      "cell_type": "code",
      "source": [
        "y_pred = ann.predict(X_test)\n",
        "y_pred = (y_pred > 0.5)\n",
        "print(np.concatenate((y_pred.reshape(len(y_pred),1), y_test.reshape(len(y_pred),1))))"
      ],
      "metadata": {
        "id": "QcGwAxJRYD4p"
      },
      "execution_count": null,
      "outputs": []
    },
    {
      "cell_type": "markdown",
      "source": [
        "Making the Confusion Matrix"
      ],
      "metadata": {
        "id": "Y7oZnAQ0OkPk"
      }
    }
  ]
}